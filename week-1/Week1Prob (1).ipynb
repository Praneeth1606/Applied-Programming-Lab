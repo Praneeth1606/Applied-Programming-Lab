{
 "cells": [
  {
   "cell_type": "markdown",
   "id": "bc66b3b5-035d-4397-af1d-5c64e180632f",
   "metadata": {},
   "source": [
    "# Document metadata\n",
    "\n",
    "> *Problem statement: modify this document so that the author name reflects your name and roll number.  Explain the changes you needed to make here.  If you use other approaches such as LaTeX to generate the PDF, explain the differences between the notebook approach and what you have used.*"
   ]
  },
  {
   "cell_type": "markdown",
   "id": "03f3c4ac-3d14-4145-9696-f8d39587b02e",
   "metadata": {},
   "source": [
    "Changing the author name\n",
    "\n",
    "1. Go to property inspector\n",
    "\n",
    "2. Go to advanced tools\n",
    "\n",
    "3. In document meta data section, change the author name and email address which is in JSON format"
   ]
  },
  {
   "cell_type": "markdown",
   "id": "47576f05-90e1-4c8b-b75b-13ebffe95171",
   "metadata": {},
   "source": [
    "# Basic Data Types\n",
    "\n",
    "Here we have a series of small problems involving various basic data types in Python.  You are required to complete the code where required, and give *brief* explanations of your answers.  Remember that the documentation and explanation is as important as the answer.\n",
    "\n",
    "For each of the following cells, first execute them, and then give a brief explanation of why the answer comes out to be the way it does.  If there is an error during execution of the cell, explain how you fixed it.  **Add a new cell of type Markdown with the explanation** after the corresponding cell.  If you are using plain Python, add suitable comments after each line and explain this in the documentation (clearly you would be better off using Notebooks here)."
   ]
  },
  {
   "cell_type": "markdown",
   "id": "40e8bfa5",
   "metadata": {},
   "source": [
    "# Process of running the code\n",
    "This file can uploaded to a jupyter server or google collab notebook to run.Please run all the code cells in the sequence to generate correct outputs."
   ]
  },
  {
   "cell_type": "markdown",
   "id": "90d271f4",
   "metadata": {},
   "source": [
    "## Numerical types"
   ]
  },
  {
   "cell_type": "code",
   "execution_count": 1,
   "id": "1e2d2e6e",
   "metadata": {},
   "outputs": [
    {
     "name": "stdout",
     "output_type": "stream",
     "text": [
      "2.4\n"
     ]
    }
   ],
   "source": [
    "print(12 / 5) #Normal Division"
   ]
  },
  {
   "cell_type": "markdown",
   "id": "c7aff992",
   "metadata": {},
   "source": [
    "**Normal Division**: '/' is the normal division operator in python which gives a float value with upto 15 decimal places."
   ]
  },
  {
   "cell_type": "code",
   "execution_count": 2,
   "id": "1b587eb7",
   "metadata": {},
   "outputs": [
    {
     "name": "stdout",
     "output_type": "stream",
     "text": [
      "2\n"
     ]
    }
   ],
   "source": [
    "print(12 // 5) #Floor Division "
   ]
  },
  {
   "cell_type": "markdown",
   "id": "dfe38e5b",
   "metadata": {},
   "source": [
    "**Floor Division**: '//' is the floor division operator in python which gives the greatest integer less than or equal to the normal division value and it will be a int value if both the diviend and divisor are int and a float value if one of them is float."
   ]
  },
  {
   "cell_type": "code",
   "execution_count": 3,
   "id": "97a6c535",
   "metadata": {},
   "outputs": [
    {
     "name": "stdout",
     "output_type": "stream",
     "text": [
      "10 10 1.0\n"
     ]
    }
   ],
   "source": [
    "a=b=10\n",
    "print(a,b,a/b)"
   ]
  },
  {
   "cell_type": "markdown",
   "id": "9ab62a82",
   "metadata": {},
   "source": [
    "* Here the variables 'a' and 'b' are being declared and initialized to the integer '10' and the 'print()' function prints the value of a, b and a/b(normal division of a and b) with a single space between them"
   ]
  },
  {
   "cell_type": "markdown",
   "id": "af329d1c",
   "metadata": {},
   "source": [
    "## Strings and related operations"
   ]
  },
  {
   "cell_type": "code",
   "execution_count": 4,
   "id": "ba913542",
   "metadata": {},
   "outputs": [
    {
     "name": "stdout",
     "output_type": "stream",
     "text": [
      "Hello \n"
     ]
    }
   ],
   "source": [
    "a = \"Hello \"\n",
    "print(a)"
   ]
  },
  {
   "cell_type": "markdown",
   "id": "85f45809",
   "metadata": {},
   "source": [
    "* Now the variable 'a' is changed to the string 'Hello ' from initial integer 10 and print(a) will print the string 'Hello '"
   ]
  },
  {
   "cell_type": "code",
   "execution_count": 5,
   "id": "ad0e046b",
   "metadata": {},
   "outputs": [
    {
     "ename": "TypeError",
     "evalue": "can only concatenate str (not \"int\") to str",
     "output_type": "error",
     "traceback": [
      "\u001b[1;31m---------------------------------------------------------------------------\u001b[0m",
      "\u001b[1;31mTypeError\u001b[0m                                 Traceback (most recent call last)",
      "Cell \u001b[1;32mIn[5], line 1\u001b[0m\n\u001b[1;32m----> 1\u001b[0m \u001b[39mprint\u001b[39m(a\u001b[39m+\u001b[39;49mb)  \u001b[39m# Output should contain \"Hello 10\" \u001b[39;00m\n",
      "\u001b[1;31mTypeError\u001b[0m: can only concatenate str (not \"int\") to str"
     ]
    }
   ],
   "source": [
    "print(a+b)  # Output should contain \"Hello 10\" "
   ]
  },
  {
   "cell_type": "markdown",
   "id": "c9b77de7",
   "metadata": {},
   "source": [
    "* The variable a is a string and b is an integer we can only concatenate strings but not a string and an integer"
   ]
  },
  {
   "cell_type": "code",
   "execution_count": 6,
   "id": "cbd69b10-ae25-48ea-aa8b-4a677d1a91c1",
   "metadata": {},
   "outputs": [
    {
     "name": "stdout",
     "output_type": "stream",
     "text": [
      "Hello 10\n"
     ]
    }
   ],
   "source": [
    "print(a+str(b))"
   ]
  },
  {
   "cell_type": "markdown",
   "id": "e4e86534",
   "metadata": {},
   "source": [
    "* The integer b can be typecasted to a string using str(b) so that 10 will be treated as a string and can be concatenated with 'a' and the concatenated strings will be printed with a space between them."
   ]
  },
  {
   "cell_type": "code",
   "execution_count": null,
   "id": "e2793fa4",
   "metadata": {},
   "outputs": [],
   "source": [
    "# Print out a line of 40 '-' signs (to look like one long line)\n",
    "# Then print the number 42 so that it is right justified to the end of \n",
    "# the above line\n",
    "# Then print one more line of length 40, but with the pattern '*-*-*-' \n"
   ]
  },
  {
   "cell_type": "code",
   "execution_count": 75,
   "id": "a4df9351-fc45-45e6-97f1-4778f99cfe53",
   "metadata": {},
   "outputs": [
    {
     "name": "stdout",
     "output_type": "stream",
     "text": [
      "----------------------------------------\n",
      "                                      42\n",
      "*-*-*-*-*-*-*-*-*-*-*-*-*-*-*-*-*-*-*-*-"
     ]
    }
   ],
   "source": [
    "for i in range(0,40):\n",
    "    print(\"-\", end=\"\")\n",
    "# print(\"\\n\")\n",
    "print(f\"\\n{42:>40}\")\n",
    "for j in range(0,20):\n",
    "    print(\"*-\", end=\"\")"
   ]
  },
  {
   "cell_type": "markdown",
   "id": "9bbf3df4",
   "metadata": {},
   "source": [
    "* Here a for loop is being used to print 40 '-' signs. The variable i takes the values from 0 to 39 when the for loop runs. The print() function generally prints a new line character at the end but when can change that using end=\"\".So here end=\"\" helps us to print all the '-' signs the same line. :>40 is used to to right justify it to the end of the first line. The second for loop is used to print 20 '*-' signs."
   ]
  },
  {
   "cell_type": "code",
   "execution_count": 8,
   "id": "9b4e1f03",
   "metadata": {},
   "outputs": [
    {
     "name": "stdout",
     "output_type": "stream",
     "text": [
      "The variable 'a' has the value Hello  and 'b' has the value         10\n"
     ]
    }
   ],
   "source": [
    "print(f\"The variable 'a' has the value {a} and 'b' has the value {b:>10}\")"
   ]
  },
  {
   "cell_type": "markdown",
   "id": "76236a8e",
   "metadata": {},
   "source": [
    "* Here f in the print statement is used to format the output the {} inside the print statement will print the value of the variable in the {} and everything else will be treated as a normal text and will be printed as it is and and :>10 is used to right justify the value of b by 10 spaces."
   ]
  },
  {
   "cell_type": "code",
   "execution_count": null,
   "id": "9d746f81",
   "metadata": {},
   "outputs": [],
   "source": [
    "# Create a list of dictionaries where each entry in the list has two keys:\n",
    "# - id: this will be the ID number of a course, for example 'EE2703'\n",
    "# - name: this will be the name, for example 'Applied Programming Lab'\n",
    "# Add 3 entries:\n",
    "# EE2703 -> Applied Programming Lab\n",
    "# EE2003 -> Computer Organization\n",
    "# EE5311 -> Digital IC Design\n",
    "# Then print out the entries in a neatly formatted table where the \n",
    "# ID number is left justified\n",
    "# to 10 spaces and the name is right justified to 40 spaces.  \n",
    "# That is it should look like:\n",
    "\n",
    "# EE2703                     Applied Programming Lab\n",
    "# EE2003                       Computer Organization\n",
    "# EE5131                           Digital IC Design\n"
   ]
  },
  {
   "cell_type": "code",
   "execution_count": 10,
   "id": "6487404b",
   "metadata": {},
   "outputs": [
    {
     "name": "stdout",
     "output_type": "stream",
     "text": [
      "EE2073                     Applied Programming Lab\n",
      "EE2003                       Computer Organization\n",
      "EE5311                           Digital IC Design\n"
     ]
    }
   ],
   "source": [
    "list = [{\"id\" : \"EE2073\", \"name\" : \"Applied Programming Lab\"}, {\"id\": \"EE2003\", \"name\": \"Computer Organization\"}, {\"id\": \"EE5311\", \"name\": \"Digital IC Design\"}]\n",
    "for i in range(3):\n",
    "    print(f\"{list[i]['id']:<10}{list[i]['name']:>40}\")"
   ]
  },
  {
   "cell_type": "markdown",
   "id": "3d701559",
   "metadata": {},
   "source": [
    "* We can define a list using square brackets[] and a dictionary using curly brackets{}. The elements of a list are seperated by ','. Each dictionary contains some key value pairs which are seperated by ',' and the key value pairs are defined in this way key : value.The for loop is used to iterate through all 3 indices of the list and print the values assigned to the keys. :<10 is used to left justify the ID number by 10 spaces and :>40 is used to right justify the course name by 40 spaces"
   ]
  },
  {
   "cell_type": "markdown",
   "id": "959169d6",
   "metadata": {},
   "source": [
    "# Functions for general manipulation"
   ]
  },
  {
   "cell_type": "code",
   "execution_count": 1,
   "id": "fb799573",
   "metadata": {},
   "outputs": [
    {
     "name": "stdout",
     "output_type": "stream",
     "text": [
      "Enter a Number:  -20\n"
     ]
    },
    {
     "name": "stdout",
     "output_type": "stream",
     "text": [
      "11101100\n"
     ]
    }
   ],
   "source": [
    "# Write a function with name 'twosc' that will take a single integer \n",
    "# as input, and print out the binary representation of the number \n",
    "# as output.  The function should take one other optional parameter N \n",
    "# which represents the number of bits.  The final result should always \n",
    "# contain N characters as output (either 0 or 1) and should use \n",
    "# two's complement to represent the number if it is negative.\n",
    "# Examples:\n",
    "# twosc(10): 0000000000001010\n",
    "# twosc(-10): 1111111111110110\n",
    "# twosc(-20, 8): 11101100\n",
    "#\n",
    "# Use only functions from the Python standard library to do this.\n",
    "def twosc(x, N=16):\n",
    "    if x>=0:\n",
    "        print(bin(x)[2:].zfill(N))\n",
    "    else:\n",
    "        print(bin(2**N+x)[2:])\n",
    "    pass\n",
    "a=int(input(\"Enter a Number: \"))\n",
    "twosc(a, N=8)"
   ]
  },
  {
   "cell_type": "markdown",
   "id": "e1133189",
   "metadata": {},
   "source": [
    "* Here a function named twosc is defined using def with two parameters x and N. Bin() function converts an integer to binary number and adds 0b at the left end so [2:] is used to exclude that. If we have a non negative number as input we are directly using bin(x) and if it is negative we are adding 2^N to it to get the two's compliment. zfill(N) is used to add zeros to the left of the value produced until it has N characters."
   ]
  },
  {
   "cell_type": "markdown",
   "id": "d9845f63",
   "metadata": {},
   "source": [
    "# List comprehensions and decorators"
   ]
  },
  {
   "cell_type": "code",
   "execution_count": 22,
   "id": "9f573a70-d7f0-4496-926f-34b7cff5492f",
   "metadata": {},
   "outputs": [
    {
     "data": {
      "text/plain": [
       "[0, 4, 16, 36, 64]"
      ]
     },
     "execution_count": 22,
     "metadata": {},
     "output_type": "execute_result"
    }
   ],
   "source": [
    "# Explain the output you see below\n",
    "[x*x for x in range(10) if x%2 == 0]"
   ]
  },
  {
   "cell_type": "markdown",
   "id": "93545372",
   "metadata": {},
   "source": [
    "* This list contains the values of x*x for the values of x from 0 to 9 which satisfies the condition x%2==0(remainder of x when divided by 2 is 0)."
   ]
  },
  {
   "cell_type": "code",
   "execution_count": 25,
   "id": "d34ddb81-5caf-40a7-ac1f-43ce08d64220",
   "metadata": {},
   "outputs": [
    {
     "data": {
      "text/plain": [
       "[1, 2, 3, 4, 5, 6, 7, 8, 9]"
      ]
     },
     "execution_count": 25,
     "metadata": {},
     "output_type": "execute_result"
    }
   ],
   "source": [
    "# Explain the output you see below\n",
    "matrix = [[1,2,3], [4,5,6], [7,8,9]]\n",
    "[v for row in matrix for v in row]"
   ]
  },
  {
   "cell_type": "markdown",
   "id": "ca14e2a4",
   "metadata": {},
   "source": [
    "* Here the variable matrix is a 2D array and this list contains all the elements of the array. Here it goes through a nested for loop."
   ]
  },
  {
   "cell_type": "code",
   "execution_count": null,
   "id": "e7349601-a068-4d91-bc0f-bcc755c4b215",
   "metadata": {},
   "outputs": [],
   "source": [
    "# Define a function `is_prime(x)` that will return True if a number \n",
    "# is prime, or False otherwise.\n",
    "# Use it to write a one-line statement that will print all \n",
    "# prime numbers between 1 and 100"
   ]
  },
  {
   "cell_type": "code",
   "execution_count": 2,
   "id": "92be44ae",
   "metadata": {},
   "outputs": [
    {
     "name": "stdout",
     "output_type": "stream",
     "text": [
      "[2, 3, 5, 7, 11, 13, 17, 19, 23, 29, 31, 37, 41, 43, 47, 53, 59, 61, 67, 71, 73, 79, 83, 89, 97]\n"
     ]
    }
   ],
   "source": [
    "def is_prime(x):\n",
    "    if x==0 or x==1:\n",
    "        return False\n",
    "    else:\n",
    "        for i in range(2,int(x**0.5)+1):\n",
    "            if x%i==0:\n",
    "                return False\n",
    "        return True\n",
    "print([i for i in range(1,101) if is_prime(i)])"
   ]
  },
  {
   "cell_type": "markdown",
   "id": "70f576c7",
   "metadata": {},
   "source": [
    "* A function named is_prime is defined which checks if the number is divisble by any number between 2 and square of the number and if it is divisible it says that is_ prime is true else false. Here the list comprehension is used to write a one line statement that print all the prime numbers between 1 and 100.  this lists contains all the values of i which are between 1 to 100 and satisfies is_prime(i)==true."
   ]
  },
  {
   "cell_type": "code",
   "execution_count": 83,
   "id": "3dd1087b-f384-41a2-88d8-6788336d2291",
   "metadata": {},
   "outputs": [
    {
     "name": "stdout",
     "output_type": "stream",
     "text": [
      "Hello happy flappy world\n"
     ]
    }
   ],
   "source": [
    "# Explain the output below\n",
    "def f1(x):\n",
    "    return \"happy \" + x\n",
    "def f2(f):\n",
    "    def wrapper(*args, **kwargs):\n",
    "        return \"Hello \" + f(*args, **kwargs) + \" world\"\n",
    "    return wrapper\n",
    "f3 = f2(f1)\n",
    "print(f3(\"flappy\"))"
   ]
  },
  {
   "cell_type": "markdown",
   "id": "44168554",
   "metadata": {},
   "source": [
    "* A function f1 is defined which takes an argument x and returns a string \"happy\" concatenated with x. function f2 takes another function f as an argument and returns a new function wrapper. *args and **kwargs allows us to variable number of arguments to the function.variable f3 refers to the function wrapper returned by f2 and it calls the function f1 which takes the value of x as the string \"flappy\". so it will print the string \"Hello happy flappy world\""
   ]
  },
  {
   "cell_type": "code",
   "execution_count": 84,
   "id": "ede870a7-6564-4930-9ff1-818f075c3e43",
   "metadata": {},
   "outputs": [
    {
     "name": "stdout",
     "output_type": "stream",
     "text": [
      "Hello nappy flappy world\n"
     ]
    }
   ],
   "source": [
    "# Explain the output below\n",
    "@f2\n",
    "def f4(x):\n",
    "    return \"nappy \" + x\n",
    "\n",
    "print(f4(\"flappy\"))"
   ]
  },
  {
   "cell_type": "markdown",
   "id": "234cfb44",
   "metadata": {},
   "source": [
    "* @f2 is a decorator, which implies f4=f2(f4). So f2 calls the function f4 first which takes flappy as input and returns Hello nappy flappy world"
   ]
  },
  {
   "cell_type": "markdown",
   "id": "de144cc1-a06a-4e96-8017-7887296dddc0",
   "metadata": {},
   "source": [
    "# File IO"
   ]
  },
  {
   "cell_type": "code",
   "execution_count": 3,
   "id": "09e62f52-fec6-4026-a4d8-ca4b87b19732",
   "metadata": {},
   "outputs": [
    {
     "name": "stdout",
     "output_type": "stream",
     "text": [
      "Enter a Number 100\n"
     ]
    }
   ],
   "source": [
    "# Write a function to generate prime numbers from 1 to N (input)\n",
    "# and write them to a file (second argument).  You can reuse the prime\n",
    "# detection function written earlier.\n",
    "def write_primes(N, filename):\n",
    "    file=open(filename, \"w\")\n",
    "    for i in range(1,N+1):\n",
    "        if is_prime(i):\n",
    "            file.write(str(i) + \" \")\n",
    "    file.close()\n",
    "    pass\n",
    "\n",
    "n= int(input(\"Enter a Number\"))\n",
    "write_primes(n, \"prime_numbers.txt\")"
   ]
  },
  {
   "cell_type": "markdown",
   "id": "aca3feab",
   "metadata": {},
   "source": [
    "* open() opens a file with the given file name and w tells that we are going to write into the file write() is used to write into the file is_prime is used to check if the given number is a prime number. write_primes is defined to write all prime numbers between 1 to N(which isgiven as input) and the filename is another parameter forthe function.close() will close the file after writing."
   ]
  },
  {
   "cell_type": "markdown",
   "id": "9b2de5cb-13c3-4804-9576-e7bb6fd3a371",
   "metadata": {},
   "source": [
    "# Exceptions"
   ]
  },
  {
   "cell_type": "code",
   "execution_count": 4,
   "id": "eec5626e-6e92-45bf-b307-2459de0f44e1",
   "metadata": {},
   "outputs": [
    {
     "name": "stdout",
     "output_type": "stream",
     "text": [
      "Enter a number:  20.5\n"
     ]
    },
    {
     "name": "stdout",
     "output_type": "stream",
     "text": [
      "Input must be an integer\n"
     ]
    }
   ],
   "source": [
    "# Write a function that takes in a number as input, and prints out \n",
    "# whether it is a prime or not.  If the input is not an integer,\n",
    "# print an appropriate error message.  Use exceptions to detect problems.\n",
    "def check_prime(x):\n",
    "    try:\n",
    "        x=int(x)\n",
    "        a=1\n",
    "        if x==0 or x==1:\n",
    "            print(f\"{x} is not a prime number\")\n",
    "        else:\n",
    "            for i in range(2,int(x**0.5)+1):\n",
    "                if x%i==0:\n",
    "                    a=0\n",
    "                    break\n",
    "        if a==1:\n",
    "            print(f\"{x} is a prime number\")\n",
    "        else:\n",
    "            print(f\"{x} is not a prime number\")\n",
    "    except ValueError:\n",
    "        print(\"Input must be an integer\")\n",
    "x = input('Enter a number: ')\n",
    "check_prime(x)"
   ]
  },
  {
   "cell_type": "markdown",
   "id": "8cba07ab",
   "metadata": {},
   "source": [
    "* The function check_prime takes an input x which is a string and tries to convert it to integer if it is successful it continues to check if the given number is prime or not and prints that else it will give a ValueError printing the statement 'Input must be an integer'. we are using the try and except to do this."
   ]
  }
 ],
 "metadata": {
  "authors": [
   {
    "name": "GVV Praneeth Reddy <EE21B048>"
   }
  ],
  "kernelspec": {
   "display_name": "Python 3 (ipykernel)",
   "language": "python",
   "name": "python3"
  },
  "language_info": {
   "codemirror_mode": {
    "name": "ipython",
    "version": 3
   },
   "file_extension": ".py",
   "mimetype": "text/x-python",
   "name": "python",
   "nbconvert_exporter": "python",
   "pygments_lexer": "ipython3",
   "version": "3.10.4"
  },
  "title": "EE2703 - Week 1",
  "toc-autonumbering": true,
  "vscode": {
   "interpreter": {
    "hash": "369f2c481f4da34e4445cda3fffd2e751bd1c4d706f27375911949ba6bb62e1c"
   }
  }
 },
 "nbformat": 4,
 "nbformat_minor": 5
}
