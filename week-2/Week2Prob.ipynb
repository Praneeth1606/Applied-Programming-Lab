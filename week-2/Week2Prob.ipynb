{
 "cells": [
  {
   "cell_type": "code",
   "execution_count": 6,
   "metadata": {},
   "outputs": [],
   "source": [
    "import math\n",
    "import numpy as np"
   ]
  },
  {
   "cell_type": "markdown",
   "metadata": {},
   "source": [
    "# Factorial"
   ]
  },
  {
   "cell_type": "code",
   "execution_count": 7,
   "metadata": {},
   "outputs": [
    {
     "name": "stdout",
     "output_type": "stream",
     "text": [
      "Enter a number 123\n"
     ]
    },
    {
     "name": "stdout",
     "output_type": "stream",
     "text": [
      "12146304367025329675766243241881295855454217088483382315328918161829235892362167668831156960612640202170735835221294047782591091570411651472186029519906261646730733907419814952960000000000000000000000000000\n",
      "15 µs ± 252 ns per loop (mean ± std. dev. of 7 runs, 100,000 loops each)\n"
     ]
    }
   ],
   "source": [
    "def factorial_1(N):\n",
    "    if N==0:\n",
    "        return 1\n",
    "    if N>0:\n",
    "        return N*factorial_1(N-1)\n",
    "x = int(input(\"Enter a number\"))\n",
    "print(factorial_1(x))\n",
    "%timeit factorial_1(x)"
   ]
  },
  {
   "cell_type": "code",
   "execution_count": null,
   "metadata": {},
   "outputs": [
    {
     "name": "stdout",
     "output_type": "stream",
     "text": [
      "Enter a number 123\n"
     ]
    },
    {
     "name": "stdout",
     "output_type": "stream",
     "text": [
      "12146304367025329675766243241881295855454217088483382315328918161829235892362167668831156960612640202170735835221294047782591091570411651472186029519906261646730733907419814952960000000000000000000000000000\n",
      "6.52 µs ± 122 ns per loop (mean ± std. dev. of 7 runs, 100,000 loops each)\n"
     ]
    }
   ],
   "source": [
    "def factorial_2(N):\n",
    "    for i in range(1,N):\n",
    "        N=N*i\n",
    "    return N\n",
    "x = int(input(\"Enter a number\"))\n",
    "print(factorial_2(x))\n",
    "%timeit factorial_2(x)"
   ]
  },
  {
   "cell_type": "markdown",
   "metadata": {},
   "source": [
    "# Linear equation Solver"
   ]
  },
  {
   "cell_type": "code",
   "execution_count": 10,
   "metadata": {},
   "outputs": [],
   "source": [
    "def lin_eqn_sol(A, b):\n",
    "    try:\n",
    "        r = len(A)\n",
    "        c = len(A[0])\n",
    "        for i in range(r):\n",
    "            A[i].append(b[i])\n",
    "        for i in range(r):\n",
    "            if A[i][i] ==0:\n",
    "                s=0\n",
    "                for j in range(i+1,r):\n",
    "                    if s==1:\n",
    "                        break\n",
    "                    if A[j][j]!= 0:\n",
    "                        for k in range(r+1):\n",
    "                            temp=A[i][k]\n",
    "                            A[i][k]=A[j][k]\n",
    "                            A[j][k]= temp\n",
    "                        s=1\n",
    "                        break\n",
    "        for i in range(r):\n",
    "            A[i] = [A[i][j]/A[i][i] for j in range(c+1)]\n",
    "            for k in range(i+1,r):\n",
    "                A[k] = [A[k][p] - A[i][p]*(A[k][i]/A[i][i]) for p in range(c+1)]\n",
    "            \n",
    "        x = [0 for q in range(c)] \n",
    "        for z in range(r-1,-1,-1):\n",
    "            u = A[z][c] - sum([A[z][j]*x[j] for j in range(z+1,r)])\n",
    "            if u==0 and A[z][z]==0:\n",
    "                return \"The given system of equations has infinite solutions\"\n",
    "            elif u!=0 and A[z][z]==0:\n",
    "                return \"The given system of linear equations is inconsistent\"\n",
    "            else:\n",
    "                x[z] = (A[z][c] - sum([A[z][j]*x[j] for j in range(z+1,r)]))/A[z][z]\n",
    "        return x\n",
    "    # except ZeroDivisionError:\n",
    "    #     print(\"The given system of linear equations is inconsistent\")\n",
    "    except ValueError:\n",
    "        print(\"The input matrix contains elements other than numbers\")\n",
    "        \n",
    "\n"
   ]
  },
  {
   "cell_type": "code",
   "execution_count": null,
   "metadata": {},
   "outputs": [],
   "source": [
    "r = int(input(\"Enter the number of rows of the coefficient matrix: \"))\n",
    "c = int(input(\"Enter the number of columns of the coefficient matrix: \"))\n",
    "\n",
    "# if r<c:\n",
    "#     print(\"The given system of linear equations has infinite solutions\")\n",
    "# elif r>c:\n",
    "#     print(\"The given system of linear equations is inconsistent\")\n",
    "if r!=c:\n",
    "    print(\"The coefficient matrix should be a square matrix\")\n",
    "else:\n",
    "    print(\"Enter each element of the coefficient matrix row wise in a new line\")\n",
    "    A=[]\n",
    "    for i in range(r):\n",
    "        m=[]\n",
    "        for j in range(c):\n",
    "            m.append(complex(input()))\n",
    "        A.append(m)\n",
    "    print(\"Enter each element of the constant matrix row wise in a new line\")\n",
    "    b=[]\n",
    "    for i in range(r):\n",
    "        b.append(complex(input()))\n",
    "    print(A,b)\n",
    "lin_eqn_sol(A, b)"
   ]
  },
  {
   "cell_type": "markdown",
   "metadata": {},
   "source": [
    "# Circuit"
   ]
  },
  {
   "cell_type": "code",
   "execution_count": 11,
   "metadata": {},
   "outputs": [
    {
     "name": "stdout",
     "output_type": "stream",
     "text": [
      "[[(2+0j), (-1+0j), 0j], [(-1+0j), (1+0j), (1+0j)], [0j, (1+0j), 0j]]\n",
      "[0j, 0j, 2.0]\n"
     ]
    },
    {
     "data": {
      "text/plain": [
       "[0, 0, (-1-0j)]"
      ]
     },
     "execution_count": 11,
     "metadata": {},
     "output_type": "execute_result"
    }
   ],
   "source": [
    "filename = 'ckt0.netlist' \n",
    "with open(filename,\"r\") as ckt:\n",
    "    circuit=ckt.readlines()   \n",
    "# circuit = open(filename, \"r\")\n",
    "# circuit.readlines()\n",
    "    nodes=set()\n",
    "    VS_count=0\n",
    "    c=0\n",
    "    e=0\n",
    "    for l in circuit:\n",
    "        l=l.split()\n",
    "        if l[0] == \".circuit\":\n",
    "            c = 1\n",
    "            continue\n",
    "        if l[0]==\".ac\":\n",
    "            w=float(l[2])\n",
    "        elif l[0] == \".end\":\n",
    "            e = 1\n",
    "            continue\n",
    "        if c==1 and e==1:\n",
    "            break\n",
    "        if c ==1 and e==0:\n",
    "            if l[0][0]=='V':\n",
    "                VS_count+=1\n",
    "            if l[1]!='GND':\n",
    "                nodes.add(int(l[1]))\n",
    "            if l[2]!='GND':\n",
    "                nodes.add(int(l[2]))\n",
    "            # if l[0]=='.ac':\n",
    "            #     freq = float(l[2])*2*(math.pi)\n",
    "    # print(nodes)\n",
    "    n=max(nodes)\n",
    "    N=n+VS_count\n",
    "    # A=[[0]*N]*N\n",
    "    # B=[0]*N\n",
    "    A=[[complex(0) for _ in range(N)]for _ in range(N)]\n",
    "    B=[complex(0) for _ in range(N)]\n",
    "    c=0\n",
    "    e=0\n",
    "    r=n\n",
    "    for l in circuit:\n",
    "        l=l.split()\n",
    "        if l[0] == \".circuit\":\n",
    "            c = 1\n",
    "            continue\n",
    "        if l[0]==\".ac\":\n",
    "            w=float(l[2])\n",
    "        elif l[0] == \".end\":\n",
    "            e = 1\n",
    "            continue\n",
    "        if c==1 and e==1:\n",
    "            break\n",
    "        if c ==1 and e==0:\n",
    "            if l[0][0]=='R':\n",
    "                value=float(l[3])\n",
    "                if l[1]!='GND' and l[2]!='GND':\n",
    "                    n_1=int(l[1])-1\n",
    "                    n_2=int(l[2])-1\n",
    "                    A[n_1][n_1]+=1/value\n",
    "                    A[n_2][n_2]+=1/value\n",
    "                    A[n_1][n_2]-=1/value\n",
    "                    A[n_2][n_1]-=1/value\n",
    "                elif l[1]!='GND' and l[2]=='GND':\n",
    "                    n_1=int(l[1])-1\n",
    "                    A[n_1][n_1]+=1/value\n",
    "                elif l[1]=='GND' and l[2]!='GND':\n",
    "                    n_2=int(l[2])-1\n",
    "                    A[n_2][n_2]+=1/value\n",
    "\n",
    "            if l[0][0]=='C':\n",
    "                value=float(l[3])\n",
    "                if l[1]!='GND' and l[2]!='GND':\n",
    "                    n_1=int(l[1])-1\n",
    "                    n_2=int(l[2])-1\n",
    "                    A[n_1][n_1]+=value*freq*1j\n",
    "                    A[n_2][n_2]+=value*freq*1j\n",
    "                    A[n_1][n_2]-=value*freq*1j\n",
    "                    A[n_2][n_1]-=value*freq*1j\n",
    "                elif l[1]!='GND' and l[2]=='GND':\n",
    "                    n_1=int(l[1])-1\n",
    "                    A[n_1][n_1]+=value*freq*j\n",
    "                elif l[1]=='GND' and l[2]!='GND':\n",
    "                    n_2=int(l[2])-1\n",
    "                    A[n_2][n_2]+=value*freq*1j\n",
    "\n",
    "            if l[0][0]=='L':\n",
    "                value=float(l[3])\n",
    "                if l[1]!='GND' and l[2]!='GND':\n",
    "                    n_1=int(l[1])-1\n",
    "                    n_2=int(l[2])-1\n",
    "                    A[n_1][n_1]+=1/(value*freq*1j)\n",
    "                    A[n_2][n_2]+=1/(value*freq*1j)\n",
    "                    A[n_1][n_2]-=1/(value*freq*1j)\n",
    "                    A[n_2][n_1]-=1/(value*freq*1j)\n",
    "                elif l[1]!='GND' and l[2]=='GND':\n",
    "                    n_1=int(l[1])-1\n",
    "                    A[n_1][n_1]+=1/(value*freq*1j)\n",
    "                elif l[1]=='GND' and l[2]!='GND':\n",
    "                    n_2=int(l[2])-1\n",
    "                    A[n_2][n_2]+=1/(value*freq*1j)\n",
    "\n",
    "            elif l[0][0]=='V':\n",
    "                type = l[3]\n",
    "                value = float(l[4])\n",
    "                if type=='ac':\n",
    "                    phase = float(l[5])\n",
    "                B[r]=value\n",
    "                if l[1]!='GND' and l[2]!='GND':\n",
    "                    n_1=int(l[1])-1\n",
    "                    n_2=int(l[2])-1\n",
    "                    A[r][n_1]+=1\n",
    "                    A[r][n_2]-=1\n",
    "                    A[n_1][r]+=1\n",
    "                    A[n_2][r]-=1\n",
    "                elif l[1]!='GND' and l[2]=='GND':\n",
    "                    n_1=int(l[1])-1\n",
    "                    A[r][n_1]+=1\n",
    "                    A[n_1][r]+=1\n",
    "                elif l[1]=='GND' and l[2]!='GND':\n",
    "                    n_2=int(l[2])-1\n",
    "                    A[r][n_2]-=1\n",
    "                    A[n_2][r]-=1\n",
    "                r+=1\n",
    "\n",
    "            elif l[0][0]=='I':\n",
    "                type = l[3]\n",
    "                value = float(l[4])\n",
    "                if type=='ac':\n",
    "                    phase = float(l[5])\n",
    "                if l[1]!='GND' and l[2]!='GND':\n",
    "                    n_1=int(l[1])-1\n",
    "                    n_2=int(l[2])-1\n",
    "                    B[n_1]-=value\n",
    "                    B[n_2]+=value\n",
    "                elif l[1]!='GND' and l[2]=='GND':\n",
    "                    n_1=int(l[1])-1\n",
    "                    B[n_1]-=value\n",
    "                elif l[1]=='GND' and l[2]!='GND':\n",
    "                    n_2=int(l[2])-1\n",
    "                    B[n_2]+=value\n",
    "            \n",
    "    print(A)\n",
    "    print(B)\n",
    "lin_eqn_sol(A, B)\n",
    "# np.linalg.solve(A,B)"
   ]
  }
 ],
 "metadata": {
  "kernelspec": {
   "display_name": "Python 3 (ipykernel)",
   "language": "python",
   "name": "python3"
  },
  "language_info": {
   "codemirror_mode": {
    "name": "ipython",
    "version": 3
   },
   "file_extension": ".py",
   "mimetype": "text/x-python",
   "name": "python",
   "nbconvert_exporter": "python",
   "pygments_lexer": "ipython3",
   "version": "3.10.4"
  },
  "vscode": {
   "interpreter": {
    "hash": "369f2c481f4da34e4445cda3fffd2e751bd1c4d706f27375911949ba6bb62e1c"
   }
  }
 },
 "nbformat": 4,
 "nbformat_minor": 4
}
