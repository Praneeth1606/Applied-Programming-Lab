{
 "cells": [
  {
   "cell_type": "code",
   "execution_count": 1,
   "metadata": {},
   "outputs": [],
   "source": [
    "import math\n",
    "import numpy as np"
   ]
  },
  {
   "cell_type": "markdown",
   "metadata": {},
   "source": [
    "Imported the libraries needed to run all the cells in this notebook"
   ]
  },
  {
   "cell_type": "markdown",
   "metadata": {},
   "source": [
    "# Factorial"
   ]
  },
  {
   "cell_type": "code",
   "execution_count": 2,
   "metadata": {},
   "outputs": [
    {
     "name": "stdout",
     "output_type": "stream",
     "text": [
      "Enter a number 5\n"
     ]
    },
    {
     "name": "stdout",
     "output_type": "stream",
     "text": [
      "120\n",
      "558 ns ± 13.6 ns per loop (mean ± std. dev. of 7 runs, 1,000,000 loops each)\n"
     ]
    }
   ],
   "source": [
    "def factorial_1(N):\n",
    "    if N==0:\n",
    "        return 1\n",
    "    if N>0:\n",
    "        return N*factorial_1(N-1)\n",
    "x = int(input(\"Enter a number\"))\n",
    "print(factorial_1(x))\n",
    "%timeit factorial_1(x)"
   ]
  },
  {
   "cell_type": "markdown",
   "metadata": {},
   "source": [
    "* The factorial is calculated using recursion i.e. the function factorial_1() calls itself inside its definition. So here factorial_1(0) will be 1 and factorial_1 of any number(N) greater than zero is N multiplied by factorial_1(N-1). This iterates till factorial_1(0) occurs.\n",
    "* %timeit is used to find the average time taken to implement that function. Here factorial_1(5) takes 558 ns."
   ]
  },
  {
   "cell_type": "code",
   "execution_count": 3,
   "metadata": {},
   "outputs": [
    {
     "name": "stdout",
     "output_type": "stream",
     "text": [
      "Enter a number 5\n"
     ]
    },
    {
     "name": "stdout",
     "output_type": "stream",
     "text": [
      "120\n",
      "234 ns ± 4.44 ns per loop (mean ± std. dev. of 7 runs, 1,000,000 loops each)\n"
     ]
    }
   ],
   "source": [
    "def factorial_2(N):\n",
    "    for i in range(1,N):\n",
    "        N=N*i\n",
    "    return N\n",
    "x = int(input(\"Enter a number\"))\n",
    "print(factorial_2(x))\n",
    "%timeit factorial_2(x)"
   ]
  },
  {
   "cell_type": "markdown",
   "metadata": {},
   "source": [
    "* Here is an other way of writing a function for factorial. In this a for loop is used to multiply the given number N by all numbers from 1 to N-1 to find the factorial.\n",
    "* factorial_2(5) takes 234 ns i.e. less than half of the time taken by factorial_1(5)."
   ]
  },
  {
   "cell_type": "markdown",
   "metadata": {},
   "source": [
    "# Linear equation Solver"
   ]
  },
  {
   "cell_type": "code",
   "execution_count": 2,
   "metadata": {},
   "outputs": [],
   "source": [
    "def lin_eqn_sol(A, b):\n",
    "    try:\n",
    "        aug=A\n",
    "        r = len(A)\n",
    "        c = len(A[0])\n",
    "        for i in range(r):\n",
    "            aug[i].append(b[i])\n",
    "        for i in range(r):\n",
    "            if aug[i][i] ==0:\n",
    "                a=0\n",
    "                for j in range(i+1,r):\n",
    "                    if a==1:\n",
    "                        break\n",
    "                    if aug[j][j]!= 0:\n",
    "                        for k in range(r+1):\n",
    "                            t=aug[i][k]\n",
    "                            aug[i][k]=aug[j][k]\n",
    "                            aug[j][k]= t\n",
    "                            a=1\n",
    "                            break\n",
    "        for i in range(r):\n",
    "            aug[i] = [aug[i][j]/aug[i][i] for j in range(c+1)]\n",
    "            for k in range(i+1,r):\n",
    "                aug[k] = [aug[k][p] - aug[i][p]*(aug[k][i]/aug[i][i]) for p in range(c+1)]\n",
    "            \n",
    "        x = [0 for q in range(c)] \n",
    "        for z in range(r-1,-1,-1):\n",
    "            u = aug[z][c] - sum([aug[z][j]*x[j] for j in range(z+1,r)])\n",
    "            if u==0 and aug[z][z]==0:\n",
    "                return \"The given system of equations has infinite solutions\"\n",
    "            elif u!=0 and aug[z][z]==0:\n",
    "                return \"The given system of linear equations is inconsistent\"\n",
    "            else:\n",
    "                x[z] = u/aug[z][z]\n",
    "        return x\n",
    "    except ValueError:\n",
    "        print(\"The input matrix contains elements other than numbers\")"
   ]
  },
  {
   "cell_type": "markdown",
   "metadata": {},
   "source": [
    "* This is a function to solve linear equations using gaussian elimination.\n",
    "* The input parameters are a coefficient matrix A and a constant vector b.'r' is the no.of rows and 'c' is the no.of columns of the coefficient matrix.\n",
    "* The function first appends the constant vector to the coefficient matrix to create an augmented matrix.\n",
    "* Then moves all the rows having the diagonal element as zero to the bottom. Later it does some row operations to get the row-echelon form.\n",
    "* Now we go through the matrix from the bottom row to find the values of each variable and stores them to a list x.\n",
    "* If condition for no solutions or infinte solutions it returns a statement saying the same otherwise it stores the solution in the list x and returns it.\n",
    "* The try except is used to throw a ValueError if the input matrix contains something other than complex numbers."
   ]
  },
  {
   "cell_type": "code",
   "execution_count": 6,
   "metadata": {},
   "outputs": [
    {
     "name": "stdout",
     "output_type": "stream",
     "text": [
      "Enter the number of rows of the coefficient matrix:  10\n",
      "Enter the number of columns of the coefficient matrix:  10\n"
     ]
    },
    {
     "name": "stdout",
     "output_type": "stream",
     "text": [
      "Enter each row of the coefficient matrix with a single space between the elements\n"
     ]
    },
    {
     "name": "stdout",
     "output_type": "stream",
     "text": [
      " 1 2 3 4 5 6 7 8 9 10\n",
      " 11 10 12 36 25 98 65 32 14 12\n",
      " 2 21 3 36 39 56 42 58 51 53\n",
      " 10 11 23 15 14 18 19 16 32 25\n",
      " 74 75 96 58 42 16 35 25 69 96\n",
      " 38 39 36 54 52 50 15 14 17 18\n",
      " 1 2 6 55 42 32 95 47 49 2\n",
      " 88 75 94 86 53 50 12 18 19 20\n",
      " 15 75 82 83 81 10 12 19 17 57\n",
      " 24 26 51 57 58 49 48 20 23 24\n"
     ]
    },
    {
     "name": "stdout",
     "output_type": "stream",
     "text": [
      "Enter the constant matrix with a single space between the elements\n"
     ]
    },
    {
     "name": "stdout",
     "output_type": "stream",
     "text": [
      " 100 101 589 54 632 759 666 21 230 25\n"
     ]
    },
    {
     "name": "stdout",
     "output_type": "stream",
     "text": [
      "[[(1+0j), (2+0j), (3+0j), (4+0j), (5+0j), (6+0j), (7+0j), (8+0j), (9+0j), (10+0j)], [(11+0j), (10+0j), (12+0j), (36+0j), (25+0j), (98+0j), (65+0j), (32+0j), (14+0j), (12+0j)], [(2+0j), (21+0j), (3+0j), (36+0j), (39+0j), (56+0j), (42+0j), (58+0j), (51+0j), (53+0j)], [(10+0j), (11+0j), (23+0j), (15+0j), (14+0j), (18+0j), (19+0j), (16+0j), (32+0j), (25+0j)], [(74+0j), (75+0j), (96+0j), (58+0j), (42+0j), (16+0j), (35+0j), (25+0j), (69+0j), (96+0j)], [(38+0j), (39+0j), (36+0j), (54+0j), (52+0j), (50+0j), (15+0j), (14+0j), (17+0j), (18+0j)], [(1+0j), (2+0j), (6+0j), (55+0j), (42+0j), (32+0j), (95+0j), (47+0j), (49+0j), (2+0j)], [(88+0j), (75+0j), (94+0j), (86+0j), (53+0j), (50+0j), (12+0j), (18+0j), (19+0j), (20+0j)], [(15+0j), (75+0j), (82+0j), (83+0j), (81+0j), (10+0j), (12+0j), (19+0j), (17+0j), (57+0j)], [(24+0j), (26+0j), (51+0j), (57+0j), (58+0j), (49+0j), (48+0j), (20+0j), (23+0j), (24+0j)]] [(100+0j), (101+0j), (589+0j), (54+0j), (632+0j), (759+0j), (666+0j), (21+0j), (230+0j), (25+0j)]\n",
      "[(-12.186839273516398+0j), (-277.9486378443721-0j), (-99.559692892257-0j), (496.10199269871254+0j), (-231.01607360104833+0j), (19.479560717572447+0j), (-101.230989325415+0j), (-186.88277737895635+0j), (33.49044217633475+0j), (192.2823391266532+0j)]\n",
      "The slowest run took 4.56 times longer than the fastest. This could mean that an intermediate result is being cached.\n",
      "43.4 ms ± 18.3 ms per loop (mean ± std. dev. of 7 runs, 1,000 loops each)\n"
     ]
    }
   ],
   "source": [
    "r = int(input(\"Enter the number of rows of the coefficient matrix: \"))\n",
    "c = int(input(\"Enter the number of columns of the coefficient matrix: \"))\n",
    "\n",
    "if r!=c:\n",
    "    print(\"The coefficient matrix should be a square matrix\")\n",
    "else:\n",
    "    print(\"Enter each row of the coefficient matrix with a single space between the elements\")\n",
    "    A=[]\n",
    "    for i in range(r):\n",
    "        m=list(map(complex, input().split()))\n",
    "        A.append(m)\n",
    "    print(\"Enter the constant matrix with a single space between the elements\")\n",
    "    b=list(map(complex, input().split()))\n",
    "    A_1=np.array(A)\n",
    "    b_1=np.array(b)\n",
    "    print(A,b)\n",
    "print(lin_eqn_sol(A, b))\n",
    "%timeit lin_eqn_sol(A, b)"
   ]
  },
  {
   "cell_type": "markdown",
   "metadata": {},
   "source": [
    "* This cell is used to take input matrices for the lin_eqn_sol() function and to print the solution.\n",
    "* First it asks the user for the no.of rows and columns of the coefficient matrix they are going to give if they are unequal it will say the coefficient matrix should be a square matrix.\n",
    "* It will take each row of the coefficient matrix as a string with space between the elements and the splits it and converts it to a list and appends it to the the coefficient matrix. Similarly it takes the constant matrix too.\n",
    "* The lin_eqn_sol() function takes 43.4 ms to solve the given 10x10 matrix."
   ]
  },
  {
   "cell_type": "code",
   "execution_count": 8,
   "metadata": {},
   "outputs": [
    {
     "name": "stdout",
     "output_type": "stream",
     "text": [
      "[ -12.18683927+0.j -277.94863784+0.j  -99.55969289-0.j  496.1019927 +0.j\n",
      " -231.0160736 +0.j   19.47956072+0.j -101.23098933+0.j -186.88277738-0.j\n",
      "   33.49044218+0.j  192.28233913+0.j]\n",
      "29.4 µs ± 460 ns per loop (mean ± std. dev. of 7 runs, 10,000 loops each)\n"
     ]
    }
   ],
   "source": [
    "print(np.linalg.solve(A_1,b_1))\n",
    "%timeit np.linalg.solve(A_1,b_1)"
   ]
  },
  {
   "cell_type": "markdown",
   "metadata": {},
   "source": [
    "* Here the linalg.solve() from the numpy library is used to used to solve the same set of linear equations and we can see that it just takes 29.4 $\\mu$s which is very less compared to 43.4 ms."
   ]
  },
  {
   "cell_type": "markdown",
   "metadata": {},
   "source": [
    "# Circuit"
   ]
  },
  {
   "cell_type": "code",
   "execution_count": 9,
   "metadata": {},
   "outputs": [],
   "source": [
    "def circuit_solver(filename): \n",
    "    with open(filename,\"r\") as ckt:\n",
    "        circuit=ckt.readlines()   \n",
    "        \n",
    "        nodes=set()\n",
    "        VS_count=0\n",
    "        c=0\n",
    "        e=0\n",
    "        \n",
    "        for l in circuit:\n",
    "            l=l.split()\n",
    "            if l[0] == \".circuit\":\n",
    "                c = 1\n",
    "                continue\n",
    "            if l[0]==\".ac\":\n",
    "                freq=float(l[2])*2*(math.pi)\n",
    "            elif l[0] == \".end\":\n",
    "                e = 1\n",
    "                continue\n",
    "            if c==1 and e==1:\n",
    "                break\n",
    "            if c ==1 and e==0:\n",
    "                if l[0][0]=='V':\n",
    "                    VS_count+=1\n",
    "                if l[1]!='GND':\n",
    "                    nodes.add(int(l[1]))\n",
    "                if l[2]!='GND':\n",
    "                    nodes.add(int(l[2]))\n",
    "                \n",
    "        n=max(nodes)\n",
    "        N=n+VS_count\n",
    "        \n",
    "        A=[[complex(0) for _ in range(N)]for _ in range(N)]\n",
    "        B=[complex(0) for _ in range(N)]\n",
    "        c=0\n",
    "        e=0\n",
    "        r=n\n",
    "        \n",
    "        for l in circuit:\n",
    "            l=l.split()\n",
    "            if l[0] == \".circuit\":\n",
    "                c = 1\n",
    "                continue\n",
    "            if l[0]==\".ac\":\n",
    "                w=float(l[2])\n",
    "            elif l[0] == \".end\":\n",
    "                e = 1\n",
    "                continue\n",
    "            if c==1 and e==1:\n",
    "                break\n",
    "            if c ==1 and e==0:\n",
    "                if l[0][0]=='R':\n",
    "                    value=float(l[3])\n",
    "                    if l[1]!='GND' and l[2]!='GND':\n",
    "                        n_1=int(l[1])-1\n",
    "                        n_2=int(l[2])-1\n",
    "                        A[n_1][n_1]+=1/value\n",
    "                        A[n_2][n_2]+=1/value\n",
    "                        A[n_1][n_2]-=1/value\n",
    "                        A[n_2][n_1]-=1/value\n",
    "                    elif l[1]!='GND' and l[2]=='GND':\n",
    "                        n_1=int(l[1])-1\n",
    "                        A[n_1][n_1]+=1/value\n",
    "                    elif l[1]=='GND' and l[2]!='GND':\n",
    "                        n_2=int(l[2])-1\n",
    "                        A[n_2][n_2]+=1/value\n",
    "\n",
    "                if l[0][0]=='C':\n",
    "                    value=float(l[3])\n",
    "                    if l[1]!='GND' and l[2]!='GND':\n",
    "                        n_1=int(l[1])-1\n",
    "                        n_2=int(l[2])-1\n",
    "                        A[n_1][n_1]+=value*freq*1j\n",
    "                        A[n_2][n_2]+=value*freq*1j\n",
    "                        A[n_1][n_2]-=value*freq*1j\n",
    "                        A[n_2][n_1]-=value*freq*1j\n",
    "                    elif l[1]!='GND' and l[2]=='GND':\n",
    "                        n_1=int(l[1])-1\n",
    "                        A[n_1][n_1]+=value*freq*j\n",
    "                    elif l[1]=='GND' and l[2]!='GND':\n",
    "                        n_2=int(l[2])-1\n",
    "                        A[n_2][n_2]+=value*freq*1j\n",
    "\n",
    "                if l[0][0]=='L':\n",
    "                    value=float(l[3])\n",
    "                    if l[1]!='GND' and l[2]!='GND':\n",
    "                        n_1=int(l[1])-1\n",
    "                        n_2=int(l[2])-1\n",
    "                        A[n_1][n_1]+=1/(value*freq*1j)\n",
    "                        A[n_2][n_2]+=1/(value*freq*1j)\n",
    "                        A[n_1][n_2]-=1/(value*freq*1j)\n",
    "                        A[n_2][n_1]-=1/(value*freq*1j)\n",
    "                    elif l[1]!='GND' and l[2]=='GND':\n",
    "                        n_1=int(l[1])-1\n",
    "                        A[n_1][n_1]+=1/(value*freq*1j)\n",
    "                    elif l[1]=='GND' and l[2]!='GND':\n",
    "                        n_2=int(l[2])-1\n",
    "                        A[n_2][n_2]+=1/(value*freq*1j)\n",
    "\n",
    "                elif l[0][0]=='V':\n",
    "                    type = l[3]\n",
    "                    value = float(l[4])\n",
    "                    if type=='ac':\n",
    "                        phase = float(l[5])\n",
    "                    B[r]=value\n",
    "                    if l[1]!='GND' and l[2]!='GND':\n",
    "                        n_1=int(l[1])-1\n",
    "                        n_2=int(l[2])-1\n",
    "                        A[r][n_1]+=1\n",
    "                        A[r][n_2]-=1\n",
    "                        A[n_1][r]+=1\n",
    "                        A[n_2][r]-=1\n",
    "                    elif l[1]!='GND' and l[2]=='GND':\n",
    "                        n_1=int(l[1])-1\n",
    "                        A[r][n_1]+=1\n",
    "                        A[n_1][r]+=1\n",
    "                    elif l[1]=='GND' and l[2]!='GND':\n",
    "                        n_2=int(l[2])-1\n",
    "                        A[r][n_2]-=1\n",
    "                        A[n_2][r]-=1\n",
    "                    r+=1\n",
    "\n",
    "                elif l[0][0]=='I':\n",
    "                    type = l[3]\n",
    "                    value = float(l[4])\n",
    "                    if type=='ac':\n",
    "                        phase = float(l[5])\n",
    "                    if l[1]!='GND' and l[2]!='GND':\n",
    "                        n_1=int(l[1])-1\n",
    "                        n_2=int(l[2])-1\n",
    "                        B[n_1]-=value\n",
    "                        B[n_2]+=value\n",
    "                    elif l[1]!='GND' and l[2]=='GND':\n",
    "                        n_1=int(l[1])-1\n",
    "                        B[n_1]-=value\n",
    "                    elif l[1]=='GND' and l[2]!='GND':\n",
    "                        n_2=int(l[2])-1\n",
    "                        B[n_2]+=value\n",
    "            \n",
    "        print(A)\n",
    "        print(B)\n",
    "    return lin_eqn_sol(A, B)"
   ]
  },
  {
   "cell_type": "markdown",
   "metadata": {},
   "source": [
    "* The circuit_solver() function here takes a .netlist file as an argument and reads all the lines in it. \n",
    "* Then it will create the coefficient matrix and constant matrix of the equations used to solve for the unknown vlues in the circuit.\n",
    "* Now it will use the lin_eqn_sol() defined before to solve those equations and return the solutions.\n",
    "* We initialize the coefficient and constant matrix to zeros.\n",
    "* First it will calculate the no.of nodes(n) and the number of voltage sources(VS_count) and N=n+VS_count will be the no.of rows and columns in the coefficient matrix.\n",
    "* Most of the required information will between .circuit and .end except the frequency. So we are we are checking each line between .circuit and .end and see which component(R,L,C,V,I) does the line correspond to and add their contribution to the coefficient matrix. \n",
    "* It will print the coefficient matrix, constant martrix and the Solution matrix "
   ]
  },
  {
   "cell_type": "code",
   "execution_count": 10,
   "metadata": {},
   "outputs": [
    {
     "name": "stdout",
     "output_type": "stream",
     "text": [
      "Enter the file name:  ckt1.netlist\n"
     ]
    },
    {
     "name": "stdout",
     "output_type": "stream",
     "text": [
      "[[(0.00125+0j), (-0.00025+0j), 0j, 0j, 0j], [(-0.00025+0j), (0.00042500000000000003+0j), (-0.000125+0j), 0j, 0j], [0j, (-0.000125+0j), (0.000125+0j), 0j, 0j], [0j, 0j, 0j, (0.0001+0j), (-1+0j)], [0j, 0j, 0j, (-1+0j), 0j]]\n",
      "[0j, 0j, 0j, 0j, 5.0]\n"
     ]
    },
    {
     "data": {
      "text/plain": [
       "[0j, 0j, 0j, (-5+0j), (-0.0005-0j)]"
      ]
     },
     "execution_count": 10,
     "metadata": {},
     "output_type": "execute_result"
    }
   ],
   "source": [
    "filename= input(\"Enter the file name: \")\n",
    "circuit_solver(filename)"
   ]
  }
 ],
 "metadata": {
  "authors": [
   {
    "name": "GVV Praneeth Reddy <EE21B048>"
   }
  ],
  "kernelspec": {
   "display_name": "Python 3 (ipykernel)",
   "language": "python",
   "name": "python3"
  },
  "language_info": {
   "codemirror_mode": {
    "name": "ipython",
    "version": 3
   },
   "file_extension": ".py",
   "mimetype": "text/x-python",
   "name": "python",
   "nbconvert_exporter": "python",
   "pygments_lexer": "ipython3",
   "version": "3.10.4"
  },
  "vscode": {
   "interpreter": {
    "hash": "369f2c481f4da34e4445cda3fffd2e751bd1c4d706f27375911949ba6bb62e1c"
   }
  }
 },
 "nbformat": 4,
 "nbformat_minor": 4
}
