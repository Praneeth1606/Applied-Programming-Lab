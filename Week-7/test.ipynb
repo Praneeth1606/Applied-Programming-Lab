{
 "cells": [
  {
   "cell_type": "code",
   "execution_count": 1,
   "metadata": {},
   "outputs": [
    {
     "name": "stdout",
     "output_type": "stream",
     "text": [
      "0\n"
     ]
    }
   ],
   "source": [
    "def gridpaths(M, N, x1, y1, x2, y2):\n",
    "    dp = [[0 for j in range(N)] for i in range(M)]\n",
    "    dp[x1][y1] = 1\n",
    "\n",
    "    for i in range(M):\n",
    "        for j in range(N):\n",
    "            if i == x1 and j == y1:\n",
    "                continue\n",
    "            if i < x2 or j < y2:\n",
    "                dp[i][j] = 0\n",
    "                continue\n",
    "            if i == x2 and j == y2:\n",
    "                if (i-1 == x1 and j == y1) or (i == x1 and j-1 == y1):\n",
    "                    dp[i][j] = 1\n",
    "                continue\n",
    "\n",
    "            if i > 0 and dp[i-1][j] > 0 and i-1 >= x2 and (j == y2 or i-1 > x1):\n",
    "                dp[i][j] += dp[i-1][j]\n",
    "            if j > 0 and dp[i][j-1] > 0 and j-1 >= y2 and (i == x2 or j-1 > y1):\n",
    "                dp[i][j] += dp[i][j-1]\n",
    "            if i < M-1 and dp[i+1][j] > 0 and i+1 <= x2 and (j == y2 or i+1 < x1):\n",
    "                dp[i][j] += dp[i+1][j]\n",
    "            if j < N-1 and dp[i][j+1] > 0 and j+1 <= y2 and (i == x2 or j+1 < y1):\n",
    "                dp[i][j] += dp[i][j+1]\n",
    "\n",
    "    return dp[x2][y2]\n",
    "print(gridpaths(9, 6, 2, 2, 6, 4))"
   ]
  },
  {
   "cell_type": "code",
   "execution_count": 10,
   "metadata": {},
   "outputs": [],
   "source": [
    "import numpy as np\n",
    "def gridpaths(M,N,x1,y1,x2,y2):\n",
    "    if M>=max(x1,x2) and N>=max(y1,y2) and min(x1,x2)>=0 and min(y1,y2)>=0:\n",
    "        a=abs(x1-x2+y1-y2)\n",
    "        b=abs(x1-x2)\n",
    "        c=abs(y1-y2)\n",
    "        A=np.math.factorial(a)\n",
    "        B=np.math.factorial(b)\n",
    "        C=np.math.factorial(c)\n",
    "        return int((A/(B*C)))\n",
    "    else:\n",
    "        return -1"
   ]
  },
  {
   "cell_type": "code",
   "execution_count": 11,
   "metadata": {},
   "outputs": [
    {
     "name": "stdout",
     "output_type": "stream",
     "text": [
      "15\n"
     ]
    }
   ],
   "source": [
    "print(gridpaths(9, 6, 2, 2, 6, 4))"
   ]
  },
  {
   "cell_type": "code",
   "execution_count": null,
   "metadata": {},
   "outputs": [],
   "source": [
    "def evalbool(F, xvals):\n",
    "    ans = []\n",
    "    for t in F:\n",
    "        a = True\n",
    "        for i in range(len(xvals)):\n",
    "            if t[i] == 1:\n",
    "                a = a and xvals[i]\n",
    "            elif t[i] == -1:\n",
    "                a = a and (not xvals[i])\n",
    "        ans.append(a)\n",
    "    return any(ans)"
   ]
  }
 ],
 "metadata": {
  "kernelspec": {
   "display_name": "Python 3",
   "language": "python",
   "name": "python3"
  },
  "language_info": {
   "codemirror_mode": {
    "name": "ipython",
    "version": 3
   },
   "file_extension": ".py",
   "mimetype": "text/x-python",
   "name": "python",
   "nbconvert_exporter": "python",
   "pygments_lexer": "ipython3",
   "version": "3.10.4"
  },
  "orig_nbformat": 4
 },
 "nbformat": 4,
 "nbformat_minor": 2
}
