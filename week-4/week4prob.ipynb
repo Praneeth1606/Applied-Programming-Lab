{
 "cells": [
  {
   "cell_type": "code",
   "execution_count": 138,
   "metadata": {},
   "outputs": [],
   "source": [
    "import networkx as nx"
   ]
  },
  {
   "cell_type": "markdown",
   "metadata": {},
   "source": [
    "# Using Topological Order"
   ]
  },
  {
   "cell_type": "code",
   "execution_count": 139,
   "metadata": {},
   "outputs": [],
   "source": [
    "netfile = input(\"Enter the name of netlist file: \")\n",
    "inputfile = input(\"Enter the name of input file: \")"
   ]
  },
  {
   "attachments": {},
   "cell_type": "markdown",
   "metadata": {},
   "source": [
    "Taking the names of the net and inputs files as input from the user"
   ]
  },
  {
   "cell_type": "code",
   "execution_count": 140,
   "metadata": {},
   "outputs": [],
   "source": [
    "edges=[]\n",
    "nets=[]\n",
    "node_attr={}\n",
    "with open(netfile, \"r\") as file:\n",
    "    data=file.readlines()\n",
    "    for l in data:\n",
    "        l=l.split()\n",
    "        if l[1]==\"inv\" or l[1]==\"buf\":\n",
    "            edges.append([l[2], l[3]])\n",
    "            node_attr[l[3]] = l[1]\n",
    "            nets.append(l[3])\n",
    "        else:\n",
    "            edges.append([l[2], l[4]])\n",
    "            edges.append([l[3], l[4]])\n",
    "            node_attr[l[4]] = l[1]\n",
    "            nets.append(l[4])\n",
    "with open(inputfile, \"r\") as file:\n",
    "    data=file.readlines()\n",
    "    niv=len(data)-1\n",
    "    node_val={}\n",
    "    l=data[0].split()\n",
    "    for i in l:\n",
    "        node_attr[i]='PI'\n",
    "        nets.append(i)\n",
    "    for i in range(1,len(data)):\n",
    "        a=data[i].split()\n",
    "        dic = {}\n",
    "        for j in range(len(l)):\n",
    "            dic[l[j]]=int(a[j])\n",
    "        node_val[i]=dic\n",
    "    "
   ]
  },
  {
   "attachments": {},
   "cell_type": "markdown",
   "metadata": {},
   "source": [
    "Reading the .net and .inputs file and creating the necessary dictionaries and lists"
   ]
  },
  {
   "cell_type": "code",
   "execution_count": 141,
   "metadata": {},
   "outputs": [
    {
     "name": "stdout",
     "output_type": "stream",
     "text": [
      "[['n_3', 'N22'], ['n_0', 'N22'], ['n_3', 'N23'], ['n_2', 'N23'], ['n_1', 'n_3'], ['N2', 'n_3'], ['n_1', 'n_2'], ['N7', 'n_2'], ['N1', 'n_0'], ['N3', 'n_0'], ['N3', 'n_1'], ['N6', 'n_1']] \n",
      "\n",
      "[('n_3', {'gateType': 'nand2'}), ('N22', {'gateType': 'nand2'}), ('n_0', {'gateType': 'nand2'}), ('N23', {'gateType': 'nand2'}), ('n_2', {'gateType': 'nand2'}), ('n_1', {'gateType': 'nand2'}), ('N2', {'gateType': 'PI'}), ('N7', {'gateType': 'PI'}), ('N1', {'gateType': 'PI'}), ('N3', {'gateType': 'PI'}), ('N6', {'gateType': 'PI'})]\n"
     ]
    }
   ],
   "source": [
    "g=nx.DiGraph()\n",
    "print(edges, \"\\n\")\n",
    "g.add_edges_from(edges)\n",
    "nx.set_node_attributes(g, node_attr, name=\"gateType\")\n",
    "print(g.nodes(data=True))"
   ]
  },
  {
   "attachments": {},
   "cell_type": "markdown",
   "metadata": {},
   "source": [
    "Creating the graph"
   ]
  },
  {
   "cell_type": "code",
   "execution_count": 142,
   "metadata": {},
   "outputs": [
    {
     "name": "stdout",
     "output_type": "stream",
     "text": [
      "Nodes in topological order ['N2', 'N7', 'N1', 'N3', 'N6', 'n_0', 'n_1', 'n_3', 'n_2', 'N22', 'N23']\n"
     ]
    }
   ],
   "source": [
    "nl=list(nx.topological_sort(g))\n",
    "print('Nodes in topological order',nl)"
   ]
  },
  {
   "attachments": {},
   "cell_type": "markdown",
   "metadata": {},
   "source": [
    "Sorting the nets in topological order"
   ]
  },
  {
   "cell_type": "code",
   "execution_count": 143,
   "metadata": {},
   "outputs": [],
   "source": [
    "def INV(x, node):\n",
    "    y=list(g.predecessors(node))\n",
    "    node_val[x][node] = int(not(node_val[x][y[0]]))\n",
    "\n",
    "def BUF(x, node):\n",
    "    y=list(g.predecessors(node))\n",
    "    node_val[x][node]=int(node_val[x][y[0]])\n",
    "\n",
    "def OR(x, node):\n",
    "    y=list(g.predecessors(node))\n",
    "    node_val[x][node]=int((node_val[x][y[0]]) or (node_val[x][y[1]]))\n",
    "\n",
    "def AND(x, node):\n",
    "    y=list(g.predecessors(node))\n",
    "    node_val[x][node]=int((node_val[x][y[0]]) and (node_val[x][y[1]]))\n",
    "\n",
    "def XOR(x, node):\n",
    "    y=list(g.predecessors(node))\n",
    "    node_val[x][node]=int(((node_val[x][y[0]])and(not(node_val[x][y[1]]))) or ((node_val[x][y[1]])and(not(node_val[x][y[0]]))))\n",
    "    \n",
    "def NOR(x, node):\n",
    "    y=list(g.predecessors(node))\n",
    "    node_val[x][node] = int(not((node_val[x][y[0]]) or (node_val[x][y[1]])))\n",
    "    \n",
    "def NAND(x, node):\n",
    "    y=list(g.predecessors(node))\n",
    "    node_val[x][node] = int(not(node_val[x][y[0]] and node_val[x][y[1]]))"
   ]
  },
  {
   "attachments": {},
   "cell_type": "markdown",
   "metadata": {},
   "source": [
    "Defining some functions to get the outputs at different types of gates"
   ]
  },
  {
   "cell_type": "code",
   "execution_count": 144,
   "metadata": {},
   "outputs": [],
   "source": [
    "\n",
    "def solve_top(x):\n",
    "    for i in nl:\n",
    "        if node_attr[i]=='inv':\n",
    "            INV(x, i)\n",
    "        elif node_attr[i]=='buf':\n",
    "            BUF(x, i)\n",
    "        elif node_attr[i]=='or2':\n",
    "            OR(x, i)\n",
    "        elif node_attr[i]=='and2':\n",
    "            AND(x, i)\n",
    "        elif node_attr[i]=='xor2':\n",
    "            XOR(x, i)\n",
    "        elif node_attr[i]=='nand2':\n",
    "            NAND(x, i)\n",
    "        elif node_attr[i]=='nor2':\n",
    "            NOR(x, i)"
   ]
  },
  {
   "attachments": {},
   "cell_type": "markdown",
   "metadata": {},
   "source": [
    "Defining a function to get all the states of the nets."
   ]
  },
  {
   "cell_type": "code",
   "execution_count": 146,
   "metadata": {},
   "outputs": [
    {
     "name": "stdout",
     "output_type": "stream",
     "text": [
      "['N1', 'N2', 'N22', 'N23', 'N3', 'N6', 'N7', 'n_0', 'n_1', 'n_2', 'n_3']\n",
      "[0, 1, 1, 1, 0, 0, 0, 1, 1, 1, 0]\n",
      "[0, 0, 0, 0, 1, 0, 0, 1, 1, 1, 1]\n",
      "[1, 0, 0, 0, 0, 0, 0, 1, 1, 1, 1]\n",
      "[0, 0, 0, 0, 1, 1, 1, 1, 0, 1, 1]\n",
      "[1, 1, 1, 0, 1, 1, 1, 0, 0, 1, 1]\n",
      "[1, 1, 1, 1, 1, 0, 0, 0, 1, 1, 0]\n",
      "[1, 1, 1, 0, 1, 1, 0, 0, 0, 1, 1]\n",
      "[1, 1, 1, 1, 0, 0, 0, 1, 1, 1, 0]\n",
      "[0, 1, 1, 1, 1, 0, 1, 1, 1, 0, 0]\n",
      "[0, 0, 0, 0, 1, 1, 0, 1, 0, 1, 1]\n"
     ]
    }
   ],
   "source": [
    "nets.sort()\n",
    "print(nets)\n",
    "for i in range(1, niv+1):\n",
    "    solve_top(i)\n",
    "    net_state=[]\n",
    "    for j in nets:\n",
    "        net_state.append(node_val[i][j])\n",
    "    print(net_state)"
   ]
  },
  {
   "attachments": {},
   "cell_type": "markdown",
   "metadata": {},
   "source": [
    "printing states of all the nets for each of the input vectors"
   ]
  },
  {
   "attachments": {},
   "cell_type": "markdown",
   "metadata": {},
   "source": [
    "# Using Event driven evaluation"
   ]
  },
  {
   "cell_type": "code",
   "execution_count": 147,
   "metadata": {},
   "outputs": [],
   "source": [
    "netfile = input(\"Enter the name of netlist file: \")\n",
    "inputfile = input(\"Enter the name of input file: \")"
   ]
  },
  {
   "cell_type": "code",
   "execution_count": 148,
   "metadata": {},
   "outputs": [],
   "source": [
    "edges=[]\n",
    "queue=[]\n",
    "nets=[]\n",
    "node_attr={}\n",
    "with open(netfile, \"r\") as file:\n",
    "    data=file.readlines()\n",
    "    for l in data:\n",
    "        l=l.split()\n",
    "        if l[1]==\"inv\" or l[1]==\"buf\":\n",
    "            edges.append([l[2], l[3]])\n",
    "            node_attr[l[3]] = l[1]\n",
    "            queue.append(l[3])\n",
    "            nets.append(l[3])\n",
    "        else:\n",
    "            edges.append([l[2], l[4]])\n",
    "            edges.append([l[3], l[4]])\n",
    "            node_attr[l[4]] = l[1]\n",
    "            queue.append(l[4])\n",
    "            nets.append(l[4])\n",
    "with open(inputfile, \"r\") as file:\n",
    "    data=file.readlines()\n",
    "    niv=len(data)-1\n",
    "    node_val={}\n",
    "    l=data[0].split()\n",
    "    for i in l:\n",
    "        node_attr[i]='PI'\n",
    "        queue.append(i)\n",
    "        nets.append(i)\n",
    "    for i in range(1,len(data)):\n",
    "        a=data[i].split()\n",
    "        dic = {}\n",
    "        for j in range(len(l)):\n",
    "            dic[l[j]]=int(a[j])\n",
    "        node_val[i]=dic\n",
    "    for j in queue:\n",
    "        if node_attr[j]!='PI':\n",
    "            node_val[1][j]=None\n",
    "    "
   ]
  },
  {
   "cell_type": "code",
   "execution_count": 149,
   "metadata": {},
   "outputs": [
    {
     "name": "stdout",
     "output_type": "stream",
     "text": [
      "[['n_3', 'N22'], ['n_0', 'N22'], ['n_3', 'N23'], ['n_2', 'N23'], ['n_1', 'n_3'], ['N2', 'n_3'], ['n_1', 'n_2'], ['N7', 'n_2'], ['N1', 'n_0'], ['N3', 'n_0'], ['N3', 'n_1'], ['N6', 'n_1']] \n",
      "\n",
      "[('n_3', {'gateType': 'nand2'}), ('N22', {'gateType': 'nand2'}), ('n_0', {'gateType': 'nand2'}), ('N23', {'gateType': 'nand2'}), ('n_2', {'gateType': 'nand2'}), ('n_1', {'gateType': 'nand2'}), ('N2', {'gateType': 'PI'}), ('N7', {'gateType': 'PI'}), ('N1', {'gateType': 'PI'}), ('N3', {'gateType': 'PI'}), ('N6', {'gateType': 'PI'})]\n"
     ]
    }
   ],
   "source": [
    "g=nx.DiGraph()\n",
    "print(edges, \"\\n\")\n",
    "g.add_edges_from(edges)\n",
    "nx.set_node_attributes(g, node_attr, name=\"gateType\")\n",
    "print(g.nodes(data=True))"
   ]
  },
  {
   "cell_type": "code",
   "execution_count": 150,
   "metadata": {},
   "outputs": [],
   "source": [
    "def INV(x, node):\n",
    "    y=list(g.predecessors(node))\n",
    "    node_val[x][node] = int(not(node_val[x][y[0]]))\n",
    "\n",
    "def BUF(x, node):\n",
    "    y=list(g.predecessors(node))\n",
    "    node_val[x][node]=int(node_val[x][y[0]])\n",
    "\n",
    "def OR(x, node):\n",
    "    y=list(g.predecessors(node))\n",
    "    node_val[x][node]=int((node_val[x][y[0]]) or (node_val[x][y[1]]))\n",
    "\n",
    "def AND(x, node):\n",
    "    y=list(g.predecessors(node))\n",
    "    node_val[x][node]=int((node_val[x][y[0]]) and (node_val[x][y[1]]))\n",
    "\n",
    "def XOR(x, node):\n",
    "    y=list(g.predecessors(node))\n",
    "    node_val[x][node]=int(((node_val[x][y[0]])and(not(node_val[x][y[1]]))) or ((node_val[x][y[1]])and(not(node_val[x][y[0]]))))\n",
    "    \n",
    "def NOR(x, node):\n",
    "    y=list(g.predecessors(node))\n",
    "    node_val[x][node] = int(not((node_val[x][y[0]]) or (node_val[x][y[1]])))\n",
    "    \n",
    "def NAND(x, node):\n",
    "    y=list(g.predecessors(node))\n",
    "    node_val[x][node] = int(not(node_val[x][y[0]] and node_val[x][y[1]]))"
   ]
  },
  {
   "cell_type": "code",
   "execution_count": 151,
   "metadata": {},
   "outputs": [],
   "source": [
    "def solve_gate(x,node):\n",
    "    if node_attr[node]=='inv':\n",
    "        INV(x, node)\n",
    "    elif node_attr[node]=='buf':\n",
    "        BUF(x, node)\n",
    "    elif node_attr[node]=='or2':\n",
    "        OR(x, node)\n",
    "    elif node_attr[node]=='and2':\n",
    "        AND(x, node)\n",
    "    elif node_attr[node]=='xor2':\n",
    "        XOR(x, node)\n",
    "    elif node_attr[node]=='nand2':\n",
    "        NAND(x, node)\n",
    "    elif node_attr[node]=='nor2':\n",
    "        NOR(x, node)"
   ]
  },
  {
   "cell_type": "code",
   "execution_count": 153,
   "metadata": {},
   "outputs": [],
   "source": [
    "x=1\n",
    "while queue:\n",
    "    node_t1 = queue.pop(0)\n",
    "    if node_val[x][node_t1]==1 or node_val[x][node_t1]==0:\n",
    "        continue\n",
    "    y=list(g.predecessors(node_t1))\n",
    "    if node_val[x][y[0]]==None or node_val[x][y[1]]==None:\n",
    "        queue.append(node_t1)\n",
    "    else:\n",
    "        solve_gate(x, node_t1)\n",
    "\n",
    "for x in range(2,niv+1):\n",
    "    queue=[]\n",
    "    for i in nets:\n",
    "        if (node_attr[i]=='PI') and (node_val[x][i]!=node_val[x-1][i]):\n",
    "            queue.append(i)\n",
    "            for n in queue:\n",
    "                l=list(g.successors(n))\n",
    "                queue.extend(l)\n",
    "    a=list(set(queue))\n",
    "    for i in nets:\n",
    "        if (i not in a):\n",
    "            node_val[x][i]=node_val[x-1][i]\n",
    "        if (i in a) and (node_attr[i]!='PI'):\n",
    "            node_val[x][i]=None\n",
    "    while a:\n",
    "        node_t2 = a.pop(0)\n",
    "        if node_val[x][node_t2]==1 or node_val[x][node_t2]==0:\n",
    "            continue\n",
    "        z=list(g.predecessors(node_t2))\n",
    "        if node_val[x][z[0]]==None or node_val[x][z[1]]==None:\n",
    "            a.append(node_t2)\n",
    "        else:\n",
    "            solve_gate(x, node_t2)"
   ]
  },
  {
   "cell_type": "code",
   "execution_count": 154,
   "metadata": {},
   "outputs": [
    {
     "name": "stdout",
     "output_type": "stream",
     "text": [
      "['N1', 'N2', 'N22', 'N23', 'N3', 'N6', 'N7', 'n_0', 'n_1', 'n_2', 'n_3']\n",
      "[0, 1, 1, 1, 0, 0, 0, 1, 1, 1, 0]\n",
      "[0, 0, 0, 0, 1, 0, 0, 1, 1, 1, 1]\n",
      "[1, 0, 0, 0, 0, 0, 0, 1, 1, 1, 1]\n",
      "[0, 0, 0, 0, 1, 1, 1, 1, 0, 1, 1]\n",
      "[1, 1, 1, 0, 1, 1, 1, 0, 0, 1, 1]\n",
      "[1, 1, 1, 1, 1, 0, 0, 0, 1, 1, 0]\n",
      "[1, 1, 1, 0, 1, 1, 0, 0, 0, 1, 1]\n",
      "[1, 1, 1, 1, 0, 0, 0, 1, 1, 1, 0]\n",
      "[0, 1, 1, 1, 1, 0, 1, 1, 1, 0, 0]\n",
      "[0, 0, 0, 0, 1, 1, 0, 1, 0, 1, 1]\n"
     ]
    }
   ],
   "source": [
    "nets.sort()\n",
    "print(nets)\n",
    "for i in range(1, niv+1):\n",
    "    net_state=[]\n",
    "    for j in nets:\n",
    "        net_state.append(node_val[i][j])\n",
    "    print(net_state)"
   ]
  },
  {
   "attachments": {},
   "cell_type": "markdown",
   "metadata": {},
   "source": [
    "* In the topological order method it does multiple rounds of circuit evaluation where all the nets are evaluated again but in the event driven evaluation only the nets which change when some of the primary inputs are changed are evaluated. So it appears topological method takes more time but if the number of primary inputs and their successors that change are high poping and appending again and again in event driven method takes more time. but if very few of the inputs and successors changes then topological may take more time "
   ]
  }
 ],
 "metadata": {
  "kernelspec": {
   "display_name": "Python 3",
   "language": "python",
   "name": "python3"
  },
  "language_info": {
   "codemirror_mode": {
    "name": "ipython",
    "version": 3
   },
   "file_extension": ".py",
   "mimetype": "text/x-python",
   "name": "python",
   "nbconvert_exporter": "python",
   "pygments_lexer": "ipython3",
   "version": "3.10.4"
  },
  "orig_nbformat": 4,
  "vscode": {
   "interpreter": {
    "hash": "369f2c481f4da34e4445cda3fffd2e751bd1c4d706f27375911949ba6bb62e1c"
   }
  }
 },
 "nbformat": 4,
 "nbformat_minor": 2
}
